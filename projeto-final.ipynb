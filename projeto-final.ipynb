{
  "cells": [
    {
      "cell_type": "code",
      "execution_count": 39,
      "metadata": {
        "id": "Ruvs1vv2FnQ9"
      },
      "outputs": [],
      "source": [
        "import pandas as pd\n",
        "import matplotlib.pyplot as plt\n",
        "import seaborn as sns"
      ]
    },
    {
      "cell_type": "code",
      "execution_count": null,
      "metadata": {
        "colab": {
          "base_uri": "https://localhost:8080/",
          "height": 206
        },
        "id": "vnlS04aVF_tF",
        "outputId": "905deaa5-73d3-47b7-bf5f-c737ac605252"
      },
      "outputs": [],
      "source": [
        "# 1. Carregando os Dados\n",
        "url = \"https://raw.githubusercontent.com/ingridcristh/challenge2-data-science/refs/heads/main/TelecomX_Data.json\"\n",
        "dados = pd.read_json(url)\n",
        "df = pd.DataFrame(dados)\n",
        "df.head()"
      ]
    },
    {
      "cell_type": "code",
      "execution_count": null,
      "metadata": {},
      "outputs": [],
      "source": [
        "# 2. Normalizando o Dataframe\n",
        "df_normalized = pd.json_normalize(df.to_dict(orient='records'))\n",
        "print(df_normalized.head())\n",
        "df = df_normalized\n",
        "df.info()"
      ]
    },
    {
      "cell_type": "code",
      "execution_count": null,
      "metadata": {},
      "outputs": [],
      "source": [
        "# 3. Valores ausentes\n",
        "print(\"Valores ausentes por coluna:\")\n",
        "print(df.isnull().sum())\n",
        "print(\"\\n\")"
      ]
    },
    {
      "cell_type": "code",
      "execution_count": null,
      "metadata": {
        "colab": {
          "base_uri": "https://localhost:8080/",
          "height": 1000
        },
        "id": "95UtFE_TK8Dv",
        "outputId": "6acc2b75-52fa-4f6e-ddc7-03bf80a21eb7"
      },
      "outputs": [],
      "source": [
        "# 4. Linhas duplicadas\n",
        "print(\" Total de linhas duplicadas:\")\n",
        "print(df.duplicated().sum())\n",
        "print(\"\\n\")"
      ]
    },
    {
      "cell_type": "code",
      "execution_count": null,
      "metadata": {
        "colab": {
          "base_uri": "https://localhost:8080/"
        },
        "id": "0dSmw4K1YMGk",
        "outputId": "453a5798-1f72-4af7-edd9-4c939bfcefc2"
      },
      "outputs": [],
      "source": [
        "# 5. Estatísticas descritivas (para encontrar valores extremos ou inconsistentes)\n",
        "print(\" Estatísticas descritivas:\")\n",
        "print(df.describe(include='all'))\n",
        "print(\"\\n\")"
      ]
    },
    {
      "cell_type": "code",
      "execution_count": null,
      "metadata": {
        "colab": {
          "base_uri": "https://localhost:8080/",
          "height": 921
        },
        "id": "brv2i0DKb7l_",
        "outputId": "d737401a-adf6-4a5b-988a-17fe9f9f451a"
      },
      "outputs": [],
      "source": [
        "# 6. Valores únicos por coluna (para ver categorias e detectar inconsistências)\n",
        "print(\"Valores únicos por coluna:\")\n",
        "for col in df.columns:\n",
        "    print(f\"{col}: {df[col].nunique()} valores únicos\")\n",
        "    if df[col].dtype == 'object':\n",
        "        print(df[col].unique())\n",
        "    print(\"\\n\")"
      ]
    },
    {
      "cell_type": "code",
      "execution_count": 78,
      "metadata": {},
      "outputs": [],
      "source": [
        "# Convertendo Valores\n",
        "\n",
        "df['account.Charges.Total'] = pd.to_numeric(df['account.Charges.Total'], errors='coerce')"
      ]
    },
    {
      "cell_type": "code",
      "execution_count": 79,
      "metadata": {},
      "outputs": [],
      "source": [
        "df['customer.SeniorCitizen'] = df['customer.SeniorCitizen'].map({0: \"No\", 1: \"Yes\"})"
      ]
    },
    {
      "cell_type": "code",
      "execution_count": null,
      "metadata": {},
      "outputs": [],
      "source": [
        "yes_no_cols = [col for col in df.columns if df[col].isin([\"Yes\", \"No\"]).all()]\n",
        "df[yes_no_cols] = df[yes_no_cols].replace({\"Yes\": True, \"No\": False})"
      ]
    },
    {
      "cell_type": "code",
      "execution_count": 81,
      "metadata": {
        "colab": {
          "base_uri": "https://localhost:8080/",
          "height": 495
        },
        "id": "94ST1Vpucev1",
        "outputId": "9c900475-18dd-43da-dff3-6efdc6eec0ab"
      },
      "outputs": [
        {
          "name": "stdout",
          "output_type": "stream",
          "text": [
            "Estatísticas descritivas:\n",
            "                          count         mean          std    min  mediana  \\\n",
            "customer.tenure          7267.0    32.346498    24.571773   0.00     29.0   \n",
            "account.Charges.Monthly  7267.0    64.720098    30.129572  18.25     70.3   \n",
            "account.Charges.Total    7256.0  2280.634213  2268.632997  18.80   1391.0   \n",
            "\n",
            "                             25%     50%       75%      max  \n",
            "customer.tenure            9.000    29.0    55.000    72.00  \n",
            "account.Charges.Monthly   35.425    70.3    89.875   118.75  \n",
            "account.Charges.Total    400.225  1391.0  3785.300  8684.80  \n"
          ]
        }
      ],
      "source": [
        "# Selecionar variáveis numéricas\n",
        "numericas = df.select_dtypes(include=['int64', 'float64'])\n",
        "\n",
        "# Estatísticas descritivas\n",
        "desc_stats = numericas.describe().T\n",
        "desc_stats['mediana'] = numericas.median()\n",
        "desc_stats = desc_stats[['count', 'mean', 'std', 'min', 'mediana', '25%', '50%', '75%', 'max']]\n",
        "\n",
        "print(\"Estatísticas descritivas:\")\n",
        "print(desc_stats)\n"
      ]
    },
    {
      "cell_type": "code",
      "execution_count": null,
      "metadata": {
        "id": "olZp1ug5dRXP"
      },
      "outputs": [],
      "source": [
        "cat_cols = df.select_dtypes(include='object').columns\n",
        "\n",
        "for col in cat_cols:\n",
        "    print(f\"\\n Distribuição de '{col}':\")\n",
        "    print(df[col].value_counts())\n",
        "    print(\"------\")\n"
      ]
    },
    {
      "cell_type": "code",
      "execution_count": 82,
      "metadata": {
        "id": "TiXFCIZI00mL"
      },
      "outputs": [
        {
          "name": "stderr",
          "output_type": "stream",
          "text": [
            "C:\\Users\\dioge\\AppData\\Local\\Temp\\ipykernel_7984\\3155830272.py:2: FutureWarning: \n",
            "\n",
            "Passing `palette` without assigning `hue` is deprecated and will be removed in v0.14.0. Assign the `x` variable to `hue` and set `legend=False` for the same effect.\n",
            "\n",
            "  sns.countplot(data=df, x='Churn', palette='Set2')\n"
          ]
        },
        {
          "data": {
            "image/png": "[encoded data removed]",
            "text/plain": [
              "<Figure size 600x400 with 1 Axes>"
            ]
          },
          "metadata": {},
          "output_type": "display_data"
        }
      ],
      "source": [
        "plt.figure(figsize=(6,4))\n",
        "sns.countplot(data=df, x='Churn', palette='Set2')\n",
        "plt.title('Distribuição de Churn (Contagem Absoluta)')\n",
        "plt.xlabel('Churn (Evasão)')\n",
        "plt.ylabel('Número de Clientes')\n",
        "plt.xticks([0, 1], ['Não', 'Sim'])  # 0 = No, 1 = Yes\n",
        "plt.show()"
      ]
    },
    {
      "cell_type": "code",
      "execution_count": 83,
      "metadata": {
        "colab": {
          "base_uri": "https://localhost:8080/"
        },
        "id": "_j0ok50x1Wd_",
        "outputId": "3b4580a0-5f61-47a1-f318-3aa59ab0807a"
      },
      "outputs": [
        {
          "data": {
            "image/png": "[encoded data removed]",
            "text/plain": [
              "<Figure size 500x500 with 1 Axes>"
            ]
          },
          "metadata": {},
          "output_type": "display_data"
        }
      ],
      "source": [
        "# Contagem de churn\n",
        "churn_counts = df['Churn'].value_counts()\n",
        "\n",
        "# Rótulos\n",
        "labels = ['Permaneceram', 'Cancelaram']\n",
        "\n",
        "# Gráfico\n",
        "plt.figure(figsize=(5,5))\n",
        "plt.pie(churn_counts, labels=labels, autopct='%1.1f%%', colors=['#66bb6a','#ef5350'])\n",
        "plt.title('Proporção de Clientes com Churn')\n",
        "plt.axis('equal')\n",
        "plt.show()"
      ]
    },
    {
      "cell_type": "code",
      "execution_count": 84,
      "metadata": {},
      "outputs": [],
      "source": [
        "# Padronizar a coluna Churn\n",
        "df['Churn'] = df['Churn'].str.strip().str.lower().map({'yes': 'Yes', 'no': 'No'})"
      ]
    },
    {
      "cell_type": "code",
      "execution_count": 85,
      "metadata": {
        "id": "m9UbrhHS13fg"
      },
      "outputs": [
        {
          "name": "stderr",
          "output_type": "stream",
          "text": [
            "C:\\Users\\dioge\\AppData\\Local\\Temp\\ipykernel_7984\\3082755905.py:2: FutureWarning: \n",
            "\n",
            "Passing `palette` without assigning `hue` is deprecated and will be removed in v0.14.0. Assign the `x` variable to `hue` and set `legend=False` for the same effect.\n",
            "\n",
            "  ax = sns.countplot(data=df, x='Churn', palette='Set2')\n"
          ]
        },
        {
          "data": {
            "image/png": "[encoded data removed]",
            "text/plain": [
              "<Figure size 600x400 with 1 Axes>"
            ]
          },
          "metadata": {},
          "output_type": "display_data"
        }
      ],
      "source": [
        "plt.figure(figsize=(6,4))\n",
        "ax = sns.countplot(data=df, x='Churn', palette='Set2')\n",
        "plt.title('Distribuição de Churn com Percentual')\n",
        "plt.xlabel('Churn')\n",
        "plt.ylabel('Número de Clientes')\n",
        "plt.xticks([0, 1], ['Não', 'Sim'])\n",
        "\n",
        "# Adicionar porcentagem acima das barras\n",
        "total = len(df)\n",
        "for p in ax.patches:\n",
        "    percentage = f'{100 * p.get_height() / total:.1f}%'\n",
        "    ax.annotate(percentage, (p.get_x() + p.get_width() / 2, p.get_height()),\n",
        "                ha='center', va='bottom')\n",
        "plt.show()\n"
      ]
    },
    {
      "cell_type": "code",
      "execution_count": 86,
      "metadata": {
        "id": "fNWbHX3R2LIo"
      },
      "outputs": [
        {
          "data": {
            "image/png": "[encoded data removed]",
            "text/plain": [
              "<Figure size 600x400 with 1 Axes>"
            ]
          },
          "metadata": {},
          "output_type": "display_data"
        }
      ],
      "source": [
        "plt.figure(figsize=(6,4))\n",
        "sns.countplot(data=df, x='customer.gender', hue='Churn', palette='Set2')\n",
        "plt.title('Churn por Gênero')\n",
        "plt.xlabel('Gênero')\n",
        "plt.ylabel('Contagem')\n",
        "plt.legend(title='Churn', labels=['Não', 'Sim'])\n",
        "plt.show()"
      ]
    },
    {
      "cell_type": "code",
      "execution_count": null,
      "metadata": {
        "id": "KgfEmzla2_nJ"
      },
      "outputs": [],
      "source": [
        "plt.figure(figsize=(8,4))\n",
        "sns.countplot(data=df, x='account.Contract', hue='Churn', palette='Set2')\n",
        "plt.title('Churn por Tipo de Contrato')\n",
        "plt.xlabel('Tipo de Contrato')\n",
        "plt.ylabel('Contagem')\n",
        "plt.xticks(rotation=15)\n",
        "plt.legend(title='Churn', labels=['Não', 'Sim'])\n",
        "plt.tight_layout()\n",
        "plt.show()"
      ]
    },
    {
      "cell_type": "code",
      "execution_count": null,
      "metadata": {
        "colab": {
          "base_uri": "https://localhost:8080/"
        },
        "id": "-xfDkDmp3WBY",
        "outputId": "4c452a39-73b3-462e-8014-4f0f42e6c3fa"
      },
      "outputs": [],
      "source": [
        "plt.figure(figsize=(10,4))\n",
        "sns.countplot(data=df, x='account.PaymentMethod', hue='Churn', palette='Set2')\n",
        "plt.title('Churn por Método de Pagamento')\n",
        "plt.xlabel('Método de Pagamento')\n",
        "plt.ylabel('Contagem')\n",
        "plt.xticks(rotation=20)\n",
        "plt.legend(title='Churn', labels=['Não', 'Sim'])\n",
        "plt.tight_layout()\n",
        "plt.show()\n"
      ]
    },
    {
      "cell_type": "code",
      "execution_count": null,
      "metadata": {
        "id": "91he8Mmh9cFt"
      },
      "outputs": [],
      "source": [
        "plt.figure(figsize=(6,4))\n",
        "sns.countplot(data=df, x='account.PaperlessBilling', hue='Churn', palette='Set2')\n",
        "plt.title('Churn por Fatura Digital')\n",
        "plt.xlabel('Fatura Digital (PaperlessBilling)')\n",
        "plt.ylabel('Contagem')\n",
        "plt.legend(title='Churn', labels=['Não', 'Sim'])\n",
        "plt.tight_layout()\n",
        "plt.show()"
      ]
    },
    {
      "cell_type": "code",
      "execution_count": null,
      "metadata": {
        "id": "nuZBk95l9gKB"
      },
      "outputs": [],
      "source": [
        "plt.figure(figsize=(7,4))\n",
        "sns.countplot(data=df, x='internet.InternetService', hue='Churn', palette='Set2')\n",
        "plt.title('Churn por Tipo de Serviço de Internet')\n",
        "plt.xlabel('Internet Service')\n",
        "plt.ylabel('Contagem')\n",
        "plt.legend(title='Churn', labels=['Não', 'Sim'])\n",
        "plt.tight_layout()\n",
        "plt.show()"
      ]
    },
    {
      "cell_type": "code",
      "execution_count": null,
      "metadata": {
        "colab": {
          "base_uri": "https://localhost:8080/"
        },
        "id": "SNUeEllR-qTp",
        "outputId": "3bbee283-1f1b-48db-de44-a46f95704de6"
      },
      "outputs": [],
      "source": [
        "plt.figure(figsize=(8,5))\n",
        "sns.boxplot(x='Churn', y='account.Charges.Total', data=df, palette='Set2')\n",
        "plt.title('Distribuição de Total Gasto por Churn')\n",
        "plt.xlabel('Churn (0 = Não, 1 = Sim)')\n",
        "plt.ylabel('Total Gasto (R$)')\n",
        "plt.show()"
      ]
    },
    {
      "cell_type": "code",
      "execution_count": null,
      "metadata": {
        "id": "PKvH0niX-sl0"
      },
      "outputs": [],
      "source": [
        "plt.figure(figsize=(8,5))\n",
        "sns.boxplot(x='Churn', y='customer.tenure', data=df, palette='Set2')\n",
        "plt.title('Distribuição do Tempo de Contrato por Churn')\n",
        "plt.xlabel('Churn (0 = Não, 1 = Sim)')\n",
        "plt.ylabel('Tenure (meses)')\n",
        "plt.show()"
      ]
    },
    {
      "cell_type": "code",
      "execution_count": null,
      "metadata": {
        "id": "RkNEpvK1DSlo"
      },
      "outputs": [],
      "source": [
        "plt.figure(figsize=(8,5))\n",
        "sns.kdeplot(data=df, x='account.Charges.Monthly', hue='Churn', fill=True, palette='Set2')\n",
        "plt.title('Distribuição da Cobrança Mensal por Churn')\n",
        "plt.xlabel('Cobrança Mensal (R$)')\n",
        "plt.ylabel('Densidade')\n",
        "plt.show()"
      ]
    },
    {
      "cell_type": "code",
      "execution_count": null,
      "metadata": {
        "colab": {
          "base_uri": "https://localhost:8080/"
        },
        "id": "ccINlvk2EPG7",
        "outputId": "27445fbc-33f1-4064-d716-b98be335820d"
      },
      "outputs": [],
      "source": [
        "# Calcular matriz de correlação\n",
        "correlacoes = df.corr(numeric_only=True)\n",
        "\n",
        "plt.figure(figsize=(10,8))\n",
        "sns.heatmap(correlacoes, annot=True, cmap='coolwarm', fmt=\".2f\")\n",
        "plt.title('🔗 Matriz de Correlação entre Variáveis Numéricas')\n",
        "plt.show()"
      ]
    },
    {
      "cell_type": "code",
      "execution_count": null,
      "metadata": {
        "id": "IcOzhHRPERlN"
      },
      "outputs": [],
      "source": []
    },
    {
      "cell_type": "code",
      "execution_count": null,
      "metadata": {
        "colab": {
          "base_uri": "https://localhost:8080/",
          "height": 461
        },
        "id": "ux4RZ1JCPeJW",
        "outputId": "833dfda5-c961-4f02-ca44-0305ff3efb09"
      },
      "outputs": [],
      "source": []
    }
  ],
  "metadata": {
    "colab": {
      "provenance": []
    },
    "kernelspec": {
      "display_name": "Python 3",
      "name": "python3"
    },
    "language_info": {
      "codemirror_mode": {
        "name": "ipython",
        "version": 3
      },
      "file_extension": ".py",
      "mimetype": "text/x-python",
      "name": "python",
      "nbconvert_exporter": "python",
      "pygments_lexer": "ipython3",
      "version": "3.13.3"
    }
  },
  "nbformat": 4,
  "nbformat_minor": 0
}
